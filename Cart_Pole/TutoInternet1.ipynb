{
 "cells": [
  {
   "cell_type": "markdown",
   "metadata": {},
   "source": [
    "https://keon.github.io/deep-q-learning/"
   ]
  },
  {
   "cell_type": "code",
   "execution_count": 1,
   "metadata": {},
   "outputs": [],
   "source": [
    "import numpy as np\n",
    "import gym\n",
    "from keras import Sequential\n",
    "from keras.layers import Dense\n",
    "from keras.optimizers import Adam\n",
    "from collections import deque\n",
    "import random"
   ]
  },
  {
   "cell_type": "code",
   "execution_count": 2,
   "metadata": {},
   "outputs": [],
   "source": [
    "env = gym.make('CartPole-v1')"
   ]
  },
  {
   "cell_type": "code",
   "execution_count": 41,
   "metadata": {},
   "outputs": [],
   "source": [
    "class DQNAgent:\n",
    "    def __init__(self, state_size, action_size):\n",
    "        self.state_size = state_size\n",
    "        self.action_size = action_size\n",
    "        self.memory = deque(maxlen=2000)\n",
    "        self.gamma = 0.95\n",
    "        self.epsilon = 1.0\n",
    "        self.epsilon_min = 0.01\n",
    "        self.epsilon_decay = 0.999\n",
    "        self.learning_rate = 0.001\n",
    "        self.model = self._build_model()\n",
    "    \n",
    "    def _build_model(self):\n",
    "        model = Sequential()\n",
    "        model.add(Dense(24, input_dim=self.state_size, activation='relu'))\n",
    "        model.add(Dense(24, activation='relu'))\n",
    "        model.add(Dense(self.action_size, activation='linear'))\n",
    "        model.compile(loss='mse', optimizer=Adam(lr=self.learning_rate))\n",
    "        return model\n",
    "\n",
    "    def memorize(self, state, action, reward, next_state, done):\n",
    "        self.memory.append((state, action, reward, next_state, done))\n",
    "    \n",
    "    def act(self, state):\n",
    "        if np.random.rand() <= self.epsilon:\n",
    "            return random.randrange(self.action_size)\n",
    "        act_values = self.model.predict(state[np.newaxis, :], verbose=0)\n",
    "        return np.argmax(act_values[0])\n",
    "    \n",
    "    def replay(self, batch_size):\n",
    "        minibatch = random.sample(self.memory, batch_size)\n",
    "        \"\"\"        \n",
    "        for state, action, reward, next_state, done in minibatch:\n",
    "            target = reward\n",
    "            if not done:\n",
    "                target = (reward + self.gamma * np.amax(self.model.predict(next_state, verbose=0)[0]))\n",
    "            target_f = self.model.predict(state, verbose=0)\n",
    "            target_f[0][action] = target\n",
    "            self.model.fit(state, target_f, epochs=1, verbose=0)\n",
    "        \"\"\"\n",
    "        states = []\n",
    "        actions = []\n",
    "        rewards = []\n",
    "        next_states = []\n",
    "        dones = []\n",
    "        for state, action, reward, next_state, done in minibatch:\n",
    "            states.append(state)\n",
    "            actions.append(action)\n",
    "            rewards.append(reward)\n",
    "            next_states.append(next_state)\n",
    "            dones.append(done)\n",
    "        target_f = self.model.predict(np.array(states).reshape(32,4,1), verbose=0)\n",
    "        target_next = self.model.predict(np.array(next_states).reshape(32,4,1), verbose=0)\n",
    "        for i, (state, action, reward, next_state, done) in enumerate(minibatch):\n",
    "            target = reward\n",
    "            if not done:\n",
    "                target = (reward + self.gamma * np.amax(target_next[i][0]))\n",
    "            target_f[i][action] = target\n",
    "        self.model.fit(np.array(states).reshape(32,4,1), target_f, epochs=1, verbose=0)\n",
    "\n",
    "        if self.epsilon > self.epsilon_min:\n",
    "            self.epsilon *= self.epsilon_decay\n",
    "\n",
    "    def learn(self, num_episodes):\n",
    "        for e in range(num_episodes):\n",
    "            state, info = env.reset()\n",
    "            state = state[np.newaxis, :]\n",
    "\n",
    "            for time_t in range(500):\n",
    "                action = self.act(state)\n",
    "                next_state, reward, done, trunctaed, info = env.step(action)\n",
    "                next_state = next_state[np.newaxis, :]\n",
    "                \n",
    "                self.memorize(state, action, reward, next_state, done)\n",
    "\n",
    "                state = next_state\n",
    "\n",
    "                if done:\n",
    "                    print(\"episode: {}/{}, score: {}, e: {:.2}\".format(e, num_episodes, time_t, self.epsilon))\n",
    "                    break\n",
    "                if len(self.memory) > 32:\n",
    "                    self.replay(32)"
   ]
  },
  {
   "cell_type": "code",
   "execution_count": 42,
   "metadata": {},
   "outputs": [
    {
     "name": "stderr",
     "output_type": "stream",
     "text": [
      "WARNING:absl:`lr` is deprecated in Keras optimizer, please use `learning_rate` or use the legacy optimizer, e.g.,tf.keras.optimizers.legacy.Adam.\n"
     ]
    },
    {
     "name": "stdout",
     "output_type": "stream",
     "text": [
      "episode: 0/1000, score: 15, e: 1.0\n",
      "episode: 1/1000, score: 12, e: 1.0\n",
      "episode: 2/1000, score: 12, e: 0.96\n",
      "episode: 3/1000, score: 18, e: 0.87\n",
      "episode: 4/1000, score: 14, e: 0.81\n",
      "episode: 5/1000, score: 9, e: 0.78\n",
      "episode: 6/1000, score: 11, e: 0.74\n",
      "episode: 7/1000, score: 17, e: 0.68\n",
      "episode: 8/1000, score: 8, e: 0.65\n",
      "episode: 9/1000, score: 12, e: 0.61\n",
      "episode: 10/1000, score: 12, e: 0.58\n",
      "episode: 11/1000, score: 9, e: 0.55\n",
      "episode: 12/1000, score: 8, e: 0.53\n",
      "episode: 13/1000, score: 13, e: 0.5\n",
      "episode: 14/1000, score: 22, e: 0.44\n",
      "episode: 15/1000, score: 14, e: 0.41\n",
      "episode: 16/1000, score: 11, e: 0.39\n",
      "episode: 17/1000, score: 14, e: 0.37\n",
      "episode: 18/1000, score: 8, e: 0.35\n",
      "episode: 19/1000, score: 9, e: 0.34\n",
      "episode: 20/1000, score: 12, e: 0.32\n",
      "episode: 21/1000, score: 9, e: 0.3\n",
      "episode: 22/1000, score: 10, e: 0.29\n",
      "episode: 23/1000, score: 12, e: 0.27\n",
      "episode: 24/1000, score: 7, e: 0.26\n",
      "episode: 25/1000, score: 12, e: 0.25\n",
      "episode: 26/1000, score: 9, e: 0.23\n",
      "episode: 27/1000, score: 10, e: 0.22\n",
      "episode: 28/1000, score: 10, e: 0.21\n",
      "episode: 29/1000, score: 9, e: 0.2\n",
      "episode: 30/1000, score: 9, e: 0.19\n",
      "episode: 31/1000, score: 7, e: 0.19\n",
      "episode: 32/1000, score: 10, e: 0.18\n",
      "episode: 33/1000, score: 9, e: 0.17\n",
      "episode: 34/1000, score: 15, e: 0.16\n",
      "episode: 35/1000, score: 9, e: 0.15\n",
      "episode: 36/1000, score: 9, e: 0.14\n",
      "episode: 37/1000, score: 7, e: 0.14\n",
      "episode: 38/1000, score: 14, e: 0.13\n"
     ]
    }
   ],
   "source": [
    "agent = DQNAgent(4, 2)\n",
    "agent.learn(1000)"
   ]
  }
 ],
 "metadata": {
  "kernelspec": {
   "display_name": "Python 3",
   "language": "python",
   "name": "python3"
  },
  "language_info": {
   "codemirror_mode": {
    "name": "ipython",
    "version": 3
   },
   "file_extension": ".py",
   "mimetype": "text/x-python",
   "name": "python",
   "nbconvert_exporter": "python",
   "pygments_lexer": "ipython3",
   "version": "3.11.0"
  }
 },
 "nbformat": 4,
 "nbformat_minor": 2
}
