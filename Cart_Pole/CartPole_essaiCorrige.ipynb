{
 "cells": [
  {
   "cell_type": "code",
   "execution_count": 1,
   "metadata": {},
   "outputs": [],
   "source": [
    "import gym\n",
    "import numpy as np\n",
    "import random\n",
    "import imageio \n",
    "import math\n",
    "from matplotlib import pyplot as plt"
   ]
  },
  {
   "cell_type": "code",
   "execution_count": 2,
   "metadata": {},
   "outputs": [],
   "source": [
    "env = gym.make('CartPole-v1')"
   ]
  },
  {
   "cell_type": "code",
   "execution_count": 3,
   "metadata": {},
   "outputs": [
    {
     "data": {
      "text/plain": [
       "Discrete(2)"
      ]
     },
     "execution_count": 3,
     "metadata": {},
     "output_type": "execute_result"
    }
   ],
   "source": [
    "env.action_space"
   ]
  },
  {
   "cell_type": "code",
   "execution_count": 4,
   "metadata": {},
   "outputs": [
    {
     "data": {
      "text/plain": [
       "(4,)"
      ]
     },
     "execution_count": 4,
     "metadata": {},
     "output_type": "execute_result"
    }
   ],
   "source": [
    "env.observation_space.shape"
   ]
  },
  {
   "cell_type": "code",
   "execution_count": 5,
   "metadata": {},
   "outputs": [],
   "source": [
    "from collections import deque\n",
    "class ReplayMemory:\n",
    "    def __init__(self, capacity):\n",
    "        self.memory = deque(maxlen=capacity)\n",
    "    def push(self, state, action, reward, next_state, done):\n",
    "        self.memory.append((state, action, reward, next_state, done))\n",
    "    def sample(self, batch_size):\n",
    "        return random.sample(self.memory, batch_size)\n",
    "    def __len__(self):\n",
    "        return len(self.memory)\n",
    "    "
   ]
  },
  {
   "cell_type": "code",
   "execution_count": 6,
   "metadata": {},
   "outputs": [],
   "source": [
    "from keras import layers, Sequential, optimizers\n",
    "def create_model(input_shape, output_shape, learning_rate):\n",
    "    model = Sequential()\n",
    "    model.add(layers.Dense(32, input_shape=(input_shape,), activation='relu'))\n",
    "    model.add(layers.Dense(32, activation='relu'))\n",
    "    model.add(layers.Dense(output_shape, activation='linear'))\n",
    "    model.compile(loss='mse', optimizer=optimizers.Adam(learning_rate = learning_rate))\n",
    "    return model"
   ]
  },
  {
   "cell_type": "code",
   "execution_count": 7,
   "metadata": {},
   "outputs": [],
   "source": [
    "rewards = []\n",
    "episodes = []\n",
    "average = []\n",
    "def DeepQLearning(env, learning_rate, discount, epsilon, max_steps, episodes, input_shape, output_shape):\n",
    "    \n",
    "    model = create_model(\n",
    "        input_shape=input_shape, \n",
    "        output_shape=output_shape, \n",
    "        learning_rate=learning_rate)\n",
    "    \n",
    "    memory = ReplayMemory(capacity=250000)\n",
    "    batch_size = 32\n",
    "    epislon_p = epsilon\n",
    "    epsilon_min = 0.01\n",
    "    epsilon_decay = 0.995\n",
    "    gamma_p = discount\n",
    "\n",
    "\n",
    "\n",
    "\n",
    "    for i in range(episodes):\n",
    "        state, info = env.reset()\n",
    "        state = np.reshape(state, (1, input_shape))\n",
    "        done = False\n",
    "        reward_tot = 0\n",
    "\n",
    "        for j in range(max_steps):\n",
    "\n",
    "            if np.random.rand() <= epsilon:\n",
    "                action = env.action_space.sample()\n",
    "            else:\n",
    "                action = np.argmax(model.predict(state, verbose=0)[0])\n",
    "\n",
    "\n",
    "            new_state, reward, done, truncated, info = env.step(action)\n",
    "            reward_tot += reward\n",
    "\n",
    "            new_state = np.reshape(new_state, (1, input_shape))\n",
    "            memory.push(state, action, reward, new_state, done)\n",
    "            state = new_state\n",
    "\n",
    "            # REPLAY\n",
    "            if len(memory) >= batch_size:\n",
    "                \n",
    "                states, actions, rewards_b, next_states, dones = zip(*memory.sample(batch_size))\n",
    "\n",
    "                states = np.squeeze(states)\n",
    "                actions = np.array(actions)\n",
    "                rewards_b = np.array(rewards_b)\n",
    "                next_states = np.squeeze(next_states)\n",
    "                dones = np.array(dones, dtype=np.bool_)\n",
    "\n",
    "                targets = rewards_b + gamma_p * (np.amax(model.predict_on_batch(next_states), axis=1)) * (1 - dones)\n",
    "                targets_full = model.predict_on_batch(states)\n",
    "\n",
    "                targets_full[range(batch_size), actions] = targets\n",
    "                model.fit(states, targets_full, epochs=1, verbose=0)\n",
    "                \n",
    "                if i>10 and epsilon > epsilon_min:\n",
    "                    epsilon *= epsilon_decay\n",
    "\n",
    "            if done:\n",
    "                rewards.append(reward_tot)\n",
    "                print(\"Episode :\", i, \"Step :\", j, \"Reward :\", reward_tot, \"Epsilon:\", epsilon)\n",
    "                break\n"
   ]
  },
  {
   "cell_type": "code",
   "execution_count": 8,
   "metadata": {},
   "outputs": [
    {
     "name": "stderr",
     "output_type": "stream",
     "text": [
      "c:\\Python311\\Lib\\site-packages\\gym\\utils\\passive_env_checker.py:233: DeprecationWarning: `np.bool8` is a deprecated alias for `np.bool_`.  (Deprecated NumPy 1.24)\n",
      "  if not isinstance(terminated, (bool, np.bool8)):\n",
      "c:\\Python311\\Lib\\site-packages\\gym\\envs\\classic_control\\cartpole.py:177: UserWarning: \u001b[33mWARN: You are calling 'step()' even though this environment has already returned terminated = True. You should always call 'reset()' once you receive 'terminated = True' -- any further steps are undefined behavior.\u001b[0m\n",
      "  logger.warn(\n"
     ]
    },
    {
     "name": "stdout",
     "output_type": "stream",
     "text": [
      "Episode : 0 Step : 31 Reward : 15.0 Epsilon: 1.0\n",
      "Episode : 1 Step : 24 Reward : 25.0 Epsilon: 1.0\n",
      "Episode : 2 Step : 10 Reward : 11.0 Epsilon: 1.0\n",
      "Episode : 3 Step : 20 Reward : 21.0 Epsilon: 1.0\n",
      "Episode : 4 Step : 13 Reward : 14.0 Epsilon: 1.0\n",
      "Episode : 5 Step : 15 Reward : 16.0 Epsilon: 1.0\n",
      "Episode : 6 Step : 18 Reward : 19.0 Epsilon: 1.0\n",
      "Episode : 7 Step : 10 Reward : 11.0 Epsilon: 1.0\n",
      "Episode : 8 Step : 9 Reward : 10.0 Epsilon: 1.0\n",
      "Episode : 9 Step : 25 Reward : 26.0 Epsilon: 1.0\n",
      "Episode : 10 Step : 16 Reward : 17.0 Epsilon: 1.0\n",
      "Episode : 11 Step : 24 Reward : 25.0 Epsilon: 0.8822202429488013\n",
      "Episode : 12 Step : 11 Reward : 12.0 Epsilon: 0.8307187014821328\n",
      "Episode : 13 Step : 9 Reward : 10.0 Epsilon: 0.7901049725470279\n",
      "Episode : 14 Step : 19 Reward : 20.0 Epsilon: 0.7147372386831305\n",
      "Episode : 15 Step : 18 Reward : 19.0 Epsilon: 0.6498078359349755\n",
      "Episode : 16 Step : 11 Reward : 12.0 Epsilon: 0.6118738784280476\n",
      "Episode : 17 Step : 12 Reward : 13.0 Epsilon: 0.5732736268885887\n",
      "Episode : 18 Step : 14 Reward : 15.0 Epsilon: 0.531750826943791\n",
      "Episode : 19 Step : 8 Reward : 9.0 Epsilon: 0.5082950737585841\n",
      "Episode : 20 Step : 12 Reward : 13.0 Epsilon: 0.47622912292284103\n",
      "Episode : 21 Step : 14 Reward : 15.0 Epsilon: 0.4417353564707963\n",
      "Episode : 22 Step : 11 Reward : 12.0 Epsilon: 0.4159480862733536\n",
      "Episode : 23 Step : 17 Reward : 18.0 Epsilon: 0.3800621177172763\n",
      "Episode : 24 Step : 17 Reward : 18.0 Epsilon: 0.3472722151889232\n",
      "Episode : 25 Step : 27 Reward : 28.0 Epsilon: 0.3017979588795719\n",
      "Episode : 26 Step : 11 Reward : 12.0 Epsilon: 0.28417984116121187\n",
      "Episode : 27 Step : 18 Reward : 19.0 Epsilon: 0.2583638820072446\n",
      "Episode : 28 Step : 30 Reward : 31.0 Epsilon: 0.2211807388415433\n",
      "Episode : 29 Step : 23 Reward : 24.0 Epsilon: 0.19611067854912728\n",
      "Episode : 30 Step : 32 Reward : 33.0 Epsilon: 0.1662122034722543\n",
      "Episode : 31 Step : 18 Reward : 19.0 Epsilon: 0.15111286553822956\n",
      "Episode : 32 Step : 41 Reward : 42.0 Epsilon: 0.12242520289863423\n",
      "Episode : 33 Step : 31 Reward : 32.0 Epsilon: 0.1042820154910064\n",
      "Episode : 34 Step : 42 Reward : 43.0 Epsilon: 0.08406242000238873\n",
      "Episode : 35 Step : 29 Reward : 30.0 Epsilon: 0.07232597730414898\n",
      "Episode : 36 Step : 30 Reward : 31.0 Epsilon: 0.06191698689958447\n",
      "Episode : 37 Step : 54 Reward : 55.0 Epsilon: 0.046997986793891174\n",
      "Episode : 38 Step : 63 Reward : 64.0 Epsilon: 0.034100160462149656\n",
      "Episode : 39 Step : 46 Reward : 47.0 Epsilon: 0.02694270634579598\n",
      "Episode : 40 Step : 92 Reward : 93.0 Epsilon: 0.016903931611681827\n",
      "Episode : 41 Step : 158 Reward : 159.0 Epsilon: 0.00998645168764533\n",
      "Episode : 42 Step : 105 Reward : 106.0 Epsilon: 0.00998645168764533\n",
      "Episode : 43 Step : 135 Reward : 136.0 Epsilon: 0.00998645168764533\n",
      "Episode : 44 Step : 81 Reward : 82.0 Epsilon: 0.00998645168764533\n",
      "Episode : 45 Step : 170 Reward : 171.0 Epsilon: 0.00998645168764533\n",
      "Episode : 46 Step : 154 Reward : 155.0 Epsilon: 0.00998645168764533\n",
      "Episode : 47 Step : 92 Reward : 93.0 Epsilon: 0.00998645168764533\n",
      "Episode : 48 Step : 164 Reward : 165.0 Epsilon: 0.00998645168764533\n",
      "Episode : 49 Step : 63 Reward : 64.0 Epsilon: 0.00998645168764533\n",
      "Episode : 50 Step : 118 Reward : 119.0 Epsilon: 0.00998645168764533\n"
     ]
    }
   ],
   "source": [
    "env = gym.make('CartPole-v1')\n",
    "\n",
    "DeepQLearning(env, \n",
    "          learning_rate=0.001, \n",
    "          discount=0.95, \n",
    "          epsilon=1.0, \n",
    "          max_steps=10000, \n",
    "          episodes=1000,\n",
    "          input_shape=env.observation_space.shape[0],\n",
    "          output_shape=env.action_space.n)"
   ]
  },
  {
   "cell_type": "code",
   "execution_count": 39,
   "metadata": {},
   "outputs": [
    {
     "data": {
      "text/plain": [
       "[<matplotlib.lines.Line2D at 0x1b003c06790>]"
      ]
     },
     "execution_count": 39,
     "metadata": {},
     "output_type": "execute_result"
    },
    {
     "data": {
      "image/png": "[encoded data removed]",
      "text/plain": [
       "<Figure size 640x480 with 1 Axes>"
      ]
     },
     "metadata": {},
     "output_type": "display_data"
    }
   ],
   "source": [
    "plt.plot(rewards)"
   ]
  },
  {
   "cell_type": "code",
   "execution_count": 8,
   "metadata": {},
   "outputs": [],
   "source": [
    "env = gym.make('CartPole-v1', render_mode = 'rgb_array')\n",
    "state,info = env.reset()\n",
    "\n",
    "input_shape = env.observation_space.shape\n",
    "output_shape = env.action_space.n\n",
    "\n",
    "model = create_model(\n",
    "        input_shape=input_shape, \n",
    "        output_shape=output_shape, \n",
    "        learning_rate=0.05\n",
    ")\n",
    "model.load_weights('model.h5')\n",
    "\n",
    "\n",
    "images = []\n",
    "\n",
    "while 1>0:\n",
    "\n",
    "    action = np.argmax(model.predict(state[np.newaxis, :], verbose=0))\n",
    "    new_state, reward, done, trunc, info = env.step(action)\n",
    "    frame = env.render()  # Save the frame\n",
    "    images.append(frame)\n",
    "\n",
    "\n",
    "    stat = new_state\n",
    "    if done == True:\n",
    "        break\n",
    "\n",
    "env.close()\n",
    "imageio.mimsave('img/CartPole12.gif', images, fps=59)"
   ]
  }
 ],
 "metadata": {
  "kernelspec": {
   "display_name": "Python 3",
   "language": "python",
   "name": "python3"
  },
  "language_info": {
   "codemirror_mode": {
    "name": "ipython",
    "version": 3
   },
   "file_extension": ".py",
   "mimetype": "text/x-python",
   "name": "python",
   "nbconvert_exporter": "python",
   "pygments_lexer": "ipython3",
   "version": "3.11.0"
  }
 },
 "nbformat": 4,
 "nbformat_minor": 2
}
