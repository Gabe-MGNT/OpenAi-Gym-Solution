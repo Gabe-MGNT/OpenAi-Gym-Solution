{
 "cells": [
  {
   "cell_type": "markdown",
   "metadata": {},
   "source": [
    "# Cart Pole (Double DeepQ Learning + Replay Memory) \n",
    "\n",
    "In this notebook, we will solve the cart pole task using DeepQ Learning and a replay memory"
   ]
  },
  {
   "cell_type": "code",
   "execution_count": 1,
   "metadata": {},
   "outputs": [],
   "source": [
    "import gym\n",
    "import numpy as np\n",
    "import random\n",
    "import imageio \n",
    "import math\n",
    "from matplotlib import pyplot as plt"
   ]
  },
  {
   "cell_type": "markdown",
   "metadata": {},
   "source": [
    "## Context"
   ]
  },
  {
   "cell_type": "code",
   "execution_count": 2,
   "metadata": {},
   "outputs": [],
   "source": [
    "env = gym.make('CartPole-v1')"
   ]
  },
  {
   "cell_type": "markdown",
   "metadata": {},
   "source": [
    "The Cart Pole task aims to balance a pole that is attached to a cart which moves along an axis (left or right).\n",
    "\n",
    "Here we can take 2 actions encoded as 'int' (0 or 1) : move left or move right."
   ]
  },
  {
   "cell_type": "code",
   "execution_count": 3,
   "metadata": {},
   "outputs": [
    {
     "data": {
      "text/plain": [
       "Discrete(2)"
      ]
     },
     "execution_count": 3,
     "metadata": {},
     "output_type": "execute_result"
    }
   ],
   "source": [
    "env.action_space"
   ]
  },
  {
   "cell_type": "markdown",
   "metadata": {},
   "source": [
    "The observation state is a vector of 4 numbers : cart position, cart velocity, pole angle and pole angular velocity. Some of these nubers are bounded, other are not.\n",
    "\n",
    "What's important is that the state is not discrete, so there is an infinite combination of state, making a QTable for such a problem is possible but not the right solution because of the infinite amount of state."
   ]
  },
  {
   "cell_type": "code",
   "execution_count": 4,
   "metadata": {},
   "outputs": [
    {
     "data": {
      "text/plain": [
       "(4,)"
      ]
     },
     "execution_count": 4,
     "metadata": {},
     "output_type": "execute_result"
    }
   ],
   "source": [
    "env.observation_space.shape"
   ]
  },
  {
   "cell_type": "markdown",
   "metadata": {},
   "source": [
    "If a QTable is not the right solution, the only remaining is using DeepQ Learning.\n",
    "\n",
    "Instead of creating a table that will store all the Qvalues, we use a neural network to approximatethose QValues. The neural network allow us to have an infinite number of states, it will only depends on the network's weights and not a static table."
   ]
  },
  {
   "cell_type": "markdown",
   "metadata": {},
   "source": [
    "## DeepQ Learning (With replay memory)\n",
    "\n",
    "The difference between a simple DeepQ Learning alogorithm and another one using replay memory is that the first one will only learn from its last experience, unlike the other one that can learn from past experience. \n",
    "\n",
    "This simple make a huge difference, because without memory the model can't generalize well, and is very likely to not train on every possible situations."
   ]
  },
  {
   "cell_type": "markdown",
   "metadata": {},
   "source": [
    "### Replay Memory (deque)\n",
    "First create the replay memory, that will store : the current state, the action taken, the reward, the next state, and if the state is terminal.\n",
    "\n",
    "Basically, the memory doesn't have an infinite capcity (performance wise), so we setup the memory as a deque, it will automatically handle incoming experience, and throwing the older ones.\n",
    "\n",
    "\n",
    "The methods created are :\n",
    "- 'push' : it append a new experience to the memory\n",
    "- 'sample' : it will randomly take some experience (a batch) in the memory and output them, those will be used to update the network weights.\n",
    "- '__len__' : it overrides the 'len' methods to return the memory length, used to start updating network's weights when there are enough experience stored."
   ]
  },
  {
   "cell_type": "code",
   "execution_count": 5,
   "metadata": {},
   "outputs": [],
   "source": [
    "from collections import deque\n",
    "class ReplayMemory:\n",
    "    def __init__(self, capacity):\n",
    "        self.memory = deque(maxlen=capacity)\n",
    "    def push(self, state, action, reward, next_state, done):\n",
    "        self.memory.append((state, action, reward, next_state, done))\n",
    "    def sample(self, batch_size):\n",
    "        return random.sample(self.memory, batch_size)\n",
    "    def __len__(self):\n",
    "        return len(self.memory)"
   ]
  },
  {
   "cell_type": "markdown",
   "metadata": {},
   "source": [
    "### The network\n",
    "\n",
    "The network can be set how you want, but because here is a quite simple case with not a huge amount of state, it doesn't need to be a very deep network, 3 simple dense layer with 32 units are sufficient.\n",
    "\n",
    "\n",
    "The input_shape or input, is what is received, the observation so a vector 4 values (Shape : (4,)).\n",
    "\n",
    "The output are the QValues for the possible actions, here the QValues for going left or right. Because its numbers, the activation is linear, and the losss is MSE."
   ]
  },
  {
   "cell_type": "code",
   "execution_count": 6,
   "metadata": {},
   "outputs": [],
   "source": [
    "from keras import layers, Sequential, optimizers\n",
    "def create_model(input_shape, output_shape, learning_rate):\n",
    "    model = Sequential()\n",
    "    model.add(layers.Dense(64, input_shape=(input_shape,), activation='relu'))\n",
    "    model.add(layers.Dense(128, activation='relu'))\n",
    "    model.add(layers.Dense(output_shape, activation='linear'))\n",
    "    return model"
   ]
  },
  {
   "cell_type": "markdown",
   "metadata": {},
   "source": [
    "### DeepQ Learning algorithm"
   ]
  },
  {
   "cell_type": "code",
   "execution_count": 7,
   "metadata": {},
   "outputs": [],
   "source": [
    "rewards_list = []\n",
    "\n",
    "def DeepQLearning(env, learning_rate, discount, epsilon, max_steps, episodes, batch_size_p=32):\n",
    "    \n",
    "    input_shape = env.observation_space.shape[0]\n",
    "    output_shape = env.action_space.n\n",
    "\n",
    "    model = create_model(\n",
    "        input_shape=input_shape, \n",
    "        output_shape=output_shape, \n",
    "        learning_rate=learning_rate)\n",
    "    target_model =  create_model(\n",
    "        input_shape=input_shape, \n",
    "        output_shape=output_shape, \n",
    "        learning_rate=learning_rate)\n",
    "\n",
    "    model.compile(loss='mse', optimizer=optimizers.Adam(learning_rate = learning_rate))\n",
    "\n",
    "\n",
    "    memory = ReplayMemory(capacity=250000)\n",
    "    batch_size = batch_size_p\n",
    "    \n",
    "\n",
    "    for i in range(episodes):\n",
    "        state, info = env.reset()\n",
    "        state = state.reshape(1, input_shape)\n",
    "        done = False\n",
    "        reward_tot = 0\n",
    "\n",
    "\n",
    "        if i%10 == 0:\n",
    "            target_model.set_weights(model.get_weights())\n",
    "\n",
    "        model.save_weights(\"model.weightsDDQN.h5\")\n",
    "\n",
    "        \n",
    "        for j in range (max_steps):   \n",
    "\n",
    "\n",
    "\n",
    "            if np.random.rand() <= epsilon:\n",
    "                action = env.action_space.sample()\n",
    "            else:\n",
    "                action = np.argmax(model.predict(state, verbose=0)[0])\n",
    "\n",
    "\n",
    "            new_state, reward, done, truncated, info = env.step(action)\n",
    "            new_state = new_state.reshape(1, input_shape) \n",
    "            reward_tot += reward\n",
    "\n",
    "            memory.push(state, action, reward, new_state, done)\n",
    "            state = new_state\n",
    "\n",
    "            \n",
    "            # Only update the model if there are enough experiences in memory\n",
    "            if len(memory) >= batch_size:\n",
    "                \n",
    "                states, actions, rewards, new_states, dones = zip(*memory.sample(batch_size))\n",
    "\n",
    "                \n",
    "                dones = np.array(dones, dtype=np.bool_)\n",
    "                #states = np.array(states)\n",
    "                states = np.squeeze(states)\n",
    "                ####\n",
    "                actions = np.array(actions)\n",
    "                ####\n",
    "                \n",
    "                #new_states = np.array(new_states)\n",
    "                new_states = np.squeeze(new_states)\n",
    "                \n",
    "                targets = model.predict_on_batch(states)\n",
    "\n",
    "                #q_values_next = target_model.predict_on_batch(new_states)\n",
    "                q_values_next = target_model.predict_on_batch(new_states)\n",
    "\n",
    "\n",
    "                max_q_values_next = np.amax(q_values_next, axis=1)\n",
    "                \n",
    "                targets[range(batch_size), actions] = rewards + discount * max_q_values_next *  (1 - dones) \n",
    "\n",
    "                model.fit(states, targets, epochs=1, verbose=0)\n",
    "\n",
    "                model.save_weights('modelv12548DDQN.weights.h5', overwrite=True)\n",
    "                \n",
    "                if i>10 and epsilon > 0.01:\n",
    "                    epsilon *= 0.9995\n",
    "\n",
    "            if done:\n",
    "                rewards_list.append(reward_tot)\n",
    "                print(\"Episodes n°:\", i, \"Epsilon:\", epsilon, \"Total reward:\", j)\n",
    "                break\n",
    "\n",
    "\n"
   ]
  },
  {
   "cell_type": "code",
   "execution_count": 8,
   "metadata": {},
   "outputs": [
    {
     "name": "stderr",
     "output_type": "stream",
     "text": [
      "c:\\Python311\\Lib\\site-packages\\gym\\utils\\passive_env_checker.py:233: DeprecationWarning: `np.bool8` is a deprecated alias for `np.bool_`.  (Deprecated NumPy 1.24)\n",
      "  if not isinstance(terminated, (bool, np.bool8)):\n"
     ]
    },
    {
     "name": "stdout",
     "output_type": "stream",
     "text": [
      "Episodes n°: 0 Epsilon: 1.0 Total reward: 14\n",
      "Episodes n°: 1 Epsilon: 1.0 Total reward: 31\n",
      "Episodes n°: 2 Epsilon: 1.0 Total reward: 24\n",
      "Episodes n°: 3 Epsilon: 1.0 Total reward: 25\n",
      "Episodes n°: 4 Epsilon: 1.0 Total reward: 24\n",
      "Episodes n°: 5 Epsilon: 1.0 Total reward: 35\n",
      "Episodes n°: 6 Epsilon: 1.0 Total reward: 18\n",
      "Episodes n°: 7 Epsilon: 1.0 Total reward: 21\n",
      "Episodes n°: 8 Epsilon: 1.0 Total reward: 34\n",
      "Episodes n°: 9 Epsilon: 1.0 Total reward: 11\n",
      "Episodes n°: 10 Epsilon: 1.0 Total reward: 19\n",
      "Episodes n°: 11 Epsilon: 0.9826479351373822 Total reward: 34\n",
      "Episodes n°: 12 Epsilon: 0.9728679918326804 Total reward: 19\n",
      "Episodes n°: 13 Epsilon: 0.9670468094797544 Total reward: 11\n",
      "Episodes n°: 14 Epsilon: 0.9593393788247946 Total reward: 15\n",
      "Episodes n°: 15 Epsilon: 0.9422215132683146 Total reward: 35\n",
      "Episodes n°: 16 Epsilon: 0.9361154131092286 Total reward: 12\n",
      "Episodes n°: 17 Epsilon: 0.916198822899158 Total reward: 42\n",
      "Episodes n°: 18 Epsilon: 0.9102613637141588 Total reward: 12\n",
      "Episodes n°: 19 Epsilon: 0.9048147898403269 Total reward: 11\n",
      "Episodes n°: 20 Epsilon: 0.8989511052880362 Total reward: 12\n",
      "Episodes n°: 21 Epsilon: 0.8908948386988933 Total reward: 17\n",
      "Episodes n°: 22 Epsilon: 0.8824693157914677 Total reward: 18\n",
      "Episodes n°: 23 Epsilon: 0.8771890363998035 Total reward: 11\n",
      "Episodes n°: 24 Epsilon: 0.869762679586888 Total reward: 16\n",
      "Episodes n°: 25 Epsilon: 0.8555258130872462 Total reward: 32\n",
      "Episodes n°: 26 Epsilon: 0.8516836376843847 Total reward: 8\n",
      "Episodes n°: 27 Epsilon: 0.8474347881728043 Total reward: 9\n",
      "Episodes n°: 28 Epsilon: 0.8348149962580034 Total reward: 29\n",
      "Episodes n°: 29 Epsilon: 0.8298198577962885 Total reward: 11\n",
      "Episodes n°: 30 Epsilon: 0.8195091081446627 Total reward: 24\n",
      "Episodes n°: 31 Epsilon: 0.808113089698582 Total reward: 27\n",
      "Episodes n°: 32 Epsilon: 0.8044838453339194 Total reward: 8\n",
      "Episodes n°: 33 Epsilon: 0.7988707238703292 Total reward: 13\n",
      "Episodes n°: 34 Epsilon: 0.7944879029012528 Total reward: 10\n",
      "Episodes n°: 35 Epsilon: 0.7771957568656473 Total reward: 43\n",
      "Episodes n°: 36 Epsilon: 0.771773032457225 Total reward: 13\n",
      "Episodes n°: 37 Epsilon: 0.7598998369428408 Total reward: 30\n",
      "Episodes n°: 38 Epsilon: 0.7534664604446856 Total reward: 16\n",
      "Episodes n°: 39 Epsilon: 0.7459674783559345 Total reward: 19\n",
      "Episodes n°: 40 Epsilon: 0.7415039614581465 Total reward: 11\n",
      "Episodes n°: 41 Epsilon: 0.7341240378415982 Total reward: 19\n",
      "Episodes n°: 42 Epsilon: 0.7260909281046787 Total reward: 21\n",
      "Episodes n°: 43 Epsilon: 0.7152781593208262 Total reward: 29\n",
      "Episodes n°: 44 Epsilon: 0.7109982728064922 Total reward: 11\n",
      "Episodes n°: 45 Epsilon: 0.7011111960778661 Total reward: 27\n",
      "Episodes n°: 46 Epsilon: 0.6872248269575028 Total reward: 39\n",
      "Episodes n°: 47 Epsilon: 0.6749624071563427 Total reward: 35\n",
      "Episodes n°: 48 Epsilon: 0.6625873310844539 Total reward: 36\n",
      "Episodes n°: 49 Epsilon: 0.6491392424807709 Total reward: 40\n",
      "Episodes n°: 50 Epsilon: 0.6442877012028052 Total reward: 14\n",
      "Episodes n°: 51 Epsilon: 0.6362822417909691 Total reward: 24\n",
      "Episodes n°: 52 Epsilon: 0.6305799746313298 Total reward: 17\n",
      "Episodes n°: 53 Epsilon: 0.6264934785906515 Total reward: 12\n",
      "Episodes n°: 54 Epsilon: 0.6218111873766076 Total reward: 14\n",
      "Episodes n°: 55 Epsilon: 0.6079732367586781 Total reward: 44\n",
      "Episodes n°: 56 Epsilon: 0.6004189949793179 Total reward: 24\n",
      "Episodes n°: 57 Epsilon: 0.5905909289148719 Total reward: 32\n",
      "Episodes n°: 58 Epsilon: 0.571986624533141 Total reward: 63\n",
      "Episodes n°: 59 Epsilon: 0.5651621077823331 Total reward: 23\n",
      "Episodes n°: 60 Epsilon: 0.5490037949732016 Total reward: 57\n",
      "Episodes n°: 61 Epsilon: 0.5392077067902467 Total reward: 35\n",
      "Episodes n°: 62 Epsilon: 0.5157332754494546 Total reward: 88\n",
      "Episodes n°: 63 Epsilon: 0.49451585848890234 Total reward: 83\n",
      "Episodes n°: 64 Epsilon: 0.4710984479845094 Total reward: 96\n",
      "Episodes n°: 65 Epsilon: 0.45603016723397605 Total reward: 64\n",
      "Episodes n°: 66 Epsilon: 0.4288227157060026 Total reward: 122\n",
      "Episodes n°: 67 Epsilon: 0.4159378940103167 Total reward: 60\n",
      "Episodes n°: 68 Epsilon: 0.39842736168756887 Total reward: 85\n",
      "Episodes n°: 69 Epsilon: 0.3750315186768142 Total reward: 120\n",
      "Episodes n°: 70 Epsilon: 0.3644913955026638 Total reward: 56\n",
      "Episodes n°: 71 Epsilon: 0.3461907991067037 Total reward: 102\n",
      "Episodes n°: 72 Epsilon: 0.3284803228719684 Total reward: 104\n",
      "Episodes n°: 73 Epsilon: 0.3021598114015561 Total reward: 166\n",
      "Episodes n°: 74 Epsilon: 0.2806020709476581 Total reward: 147\n",
      "Episodes n°: 75 Epsilon: 0.2608431560414445 Total reward: 145\n",
      "Episodes n°: 76 Epsilon: 0.2470042795122939 Total reward: 108\n",
      "Episodes n°: 77 Epsilon: 0.22721229040529872 Total reward: 166\n",
      "Episodes n°: 78 Epsilon: 0.21548073871993037 Total reward: 105\n",
      "Episodes n°: 79 Epsilon: 0.1973244875730549 Total reward: 175\n",
      "Episodes n°: 80 Epsilon: 0.18648212481849638 Total reward: 112\n",
      "Episodes n°: 81 Epsilon: 0.17231352416708978 Total reward: 157\n",
      "Episodes n°: 82 Epsilon: 0.16058092185928857 Total reward: 140\n",
      "Episodes n°: 83 Epsilon: 0.14860304451912487 Total reward: 154\n",
      "Episodes n°: 84 Epsilon: 0.13744984866429907 Total reward: 155\n",
      "Episodes n°: 85 Epsilon: 0.12757959985393574 Total reward: 148\n",
      "Episodes n°: 86 Epsilon: 0.10996953193281216 Total reward: 296\n",
      "Episodes n°: 87 Epsilon: 0.09841326341162147 Total reward: 221\n",
      "Episodes n°: 88 Epsilon: 0.08980608216305504 Total reward: 182\n",
      "Episodes n°: 89 Epsilon: 0.08306581094882559 Total reward: 155\n",
      "Episodes n°: 90 Epsilon: 0.07275517667517836 Total reward: 264\n",
      "Episodes n°: 91 Epsilon: 0.06491453451252463 Total reward: 227\n",
      "Episodes n°: 92 Epsilon: 0.055452797475230596 Total reward: 314\n",
      "Episodes n°: 93 Epsilon: 0.05067890025481656 Total reward: 179\n",
      "Episodes n°: 94 Epsilon: 0.0409952676863153 Total reward: 423\n",
      "Episodes n°: 95 Epsilon: 0.036467716071517525 Total reward: 233\n",
      "Episodes n°: 96 Epsilon: 0.03276630232298601 Total reward: 213\n",
      "Episodes n°: 97 Epsilon: 0.0296177949271257 Total reward: 201\n",
      "Episodes n°: 98 Epsilon: 0.02673168930834715 Total reward: 204\n",
      "Episodes n°: 99 Epsilon: 0.024369359729820315 Total reward: 184\n",
      "Episodes n°: 100 Epsilon: 0.02172139750444577 Total reward: 229\n",
      "Episodes n°: 101 Epsilon: 0.019565576108656998 Total reward: 208\n",
      "Episodes n°: 102 Epsilon: 0.017650179309798217 Total reward: 205\n",
      "Episodes n°: 103 Epsilon: 0.016300993565530986 Total reward: 158\n",
      "Episodes n°: 104 Epsilon: 0.014778915737674687 Total reward: 195\n",
      "Episodes n°: 105 Epsilon: 0.013526888162487097 Total reward: 176\n",
      "Episodes n°: 106 Epsilon: 0.012542972380489374 Total reward: 150\n",
      "Episodes n°: 107 Epsilon: 0.01140026563098731 Total reward: 190\n",
      "Episodes n°: 108 Epsilon: 0.010565750127778701 Total reward: 151\n",
      "Episodes n°: 109 Epsilon: 0.009995187929535779 Total reward: 149\n",
      "Episodes n°: 110 Epsilon: 0.009995187929535779 Total reward: 156\n",
      "Episodes n°: 111 Epsilon: 0.009995187929535779 Total reward: 150\n",
      "Episodes n°: 112 Epsilon: 0.009995187929535779 Total reward: 188\n",
      "Episodes n°: 113 Epsilon: 0.009995187929535779 Total reward: 154\n",
      "Episodes n°: 114 Epsilon: 0.009995187929535779 Total reward: 146\n",
      "Episodes n°: 115 Epsilon: 0.009995187929535779 Total reward: 198\n",
      "Episodes n°: 116 Epsilon: 0.009995187929535779 Total reward: 153\n",
      "Episodes n°: 117 Epsilon: 0.009995187929535779 Total reward: 153\n",
      "Episodes n°: 118 Epsilon: 0.009995187929535779 Total reward: 176\n",
      "Episodes n°: 119 Epsilon: 0.009995187929535779 Total reward: 221\n",
      "Episodes n°: 120 Epsilon: 0.009995187929535779 Total reward: 150\n",
      "Episodes n°: 121 Epsilon: 0.009995187929535779 Total reward: 149\n",
      "Episodes n°: 122 Epsilon: 0.009995187929535779 Total reward: 158\n",
      "Episodes n°: 123 Epsilon: 0.009995187929535779 Total reward: 170\n",
      "Episodes n°: 124 Epsilon: 0.009995187929535779 Total reward: 152\n",
      "Episodes n°: 125 Epsilon: 0.009995187929535779 Total reward: 163\n",
      "Episodes n°: 126 Epsilon: 0.009995187929535779 Total reward: 158\n",
      "Episodes n°: 127 Epsilon: 0.009995187929535779 Total reward: 143\n",
      "Episodes n°: 128 Epsilon: 0.009995187929535779 Total reward: 176\n",
      "Episodes n°: 129 Epsilon: 0.009995187929535779 Total reward: 159\n",
      "Episodes n°: 130 Epsilon: 0.009995187929535779 Total reward: 164\n",
      "Episodes n°: 131 Epsilon: 0.009995187929535779 Total reward: 154\n",
      "Episodes n°: 132 Epsilon: 0.009995187929535779 Total reward: 183\n",
      "Episodes n°: 133 Epsilon: 0.009995187929535779 Total reward: 164\n",
      "Episodes n°: 134 Epsilon: 0.009995187929535779 Total reward: 171\n",
      "Episodes n°: 135 Epsilon: 0.009995187929535779 Total reward: 181\n",
      "Episodes n°: 136 Epsilon: 0.009995187929535779 Total reward: 149\n",
      "Episodes n°: 137 Epsilon: 0.009995187929535779 Total reward: 170\n",
      "Episodes n°: 138 Epsilon: 0.009995187929535779 Total reward: 136\n",
      "Episodes n°: 139 Epsilon: 0.009995187929535779 Total reward: 142\n",
      "Episodes n°: 140 Epsilon: 0.009995187929535779 Total reward: 183\n",
      "Episodes n°: 141 Epsilon: 0.009995187929535779 Total reward: 178\n",
      "Episodes n°: 142 Epsilon: 0.009995187929535779 Total reward: 154\n",
      "Episodes n°: 143 Epsilon: 0.009995187929535779 Total reward: 193\n",
      "Episodes n°: 144 Epsilon: 0.009995187929535779 Total reward: 157\n",
      "Episodes n°: 145 Epsilon: 0.009995187929535779 Total reward: 145\n",
      "Episodes n°: 146 Epsilon: 0.009995187929535779 Total reward: 152\n",
      "Episodes n°: 147 Epsilon: 0.009995187929535779 Total reward: 170\n",
      "Episodes n°: 148 Epsilon: 0.009995187929535779 Total reward: 155\n",
      "Episodes n°: 149 Epsilon: 0.009995187929535779 Total reward: 140\n",
      "Episodes n°: 150 Epsilon: 0.009995187929535779 Total reward: 196\n",
      "Episodes n°: 151 Epsilon: 0.009995187929535779 Total reward: 195\n",
      "Episodes n°: 152 Epsilon: 0.009995187929535779 Total reward: 189\n",
      "Episodes n°: 153 Epsilon: 0.009995187929535779 Total reward: 196\n",
      "Episodes n°: 154 Epsilon: 0.009995187929535779 Total reward: 155\n",
      "Episodes n°: 155 Epsilon: 0.009995187929535779 Total reward: 170\n",
      "Episodes n°: 156 Epsilon: 0.009995187929535779 Total reward: 186\n",
      "Episodes n°: 157 Epsilon: 0.009995187929535779 Total reward: 142\n",
      "Episodes n°: 158 Epsilon: 0.009995187929535779 Total reward: 184\n",
      "Episodes n°: 159 Epsilon: 0.009995187929535779 Total reward: 188\n",
      "Episodes n°: 160 Epsilon: 0.009995187929535779 Total reward: 220\n",
      "Episodes n°: 161 Epsilon: 0.009995187929535779 Total reward: 233\n",
      "Episodes n°: 162 Epsilon: 0.009995187929535779 Total reward: 398\n",
      "Episodes n°: 163 Epsilon: 0.009995187929535779 Total reward: 199\n",
      "Episodes n°: 164 Epsilon: 0.009995187929535779 Total reward: 218\n",
      "Episodes n°: 165 Epsilon: 0.009995187929535779 Total reward: 187\n",
      "Episodes n°: 166 Epsilon: 0.009995187929535779 Total reward: 254\n",
      "Episodes n°: 167 Epsilon: 0.009995187929535779 Total reward: 293\n",
      "Episodes n°: 168 Epsilon: 0.009995187929535779 Total reward: 203\n"
     ]
    },
    {
     "ename": "KeyboardInterrupt",
     "evalue": "",
     "output_type": "error",
     "traceback": [
      "\u001b[1;31m---------------------------------------------------------------------------\u001b[0m",
      "\u001b[1;31mKeyboardInterrupt\u001b[0m                         Traceback (most recent call last)",
      "Cell \u001b[1;32mIn[8], line 1\u001b[0m\n\u001b[1;32m----> 1\u001b[0m \u001b[43mDeepQLearning\u001b[49m\u001b[43m(\u001b[49m\u001b[43menv\u001b[49m\u001b[43m,\u001b[49m\u001b[43m \u001b[49m\n\u001b[0;32m      2\u001b[0m \u001b[43m          \u001b[49m\u001b[43mlearning_rate\u001b[49m\u001b[38;5;241;43m=\u001b[39;49m\u001b[38;5;241;43m0.001\u001b[39;49m\u001b[43m,\u001b[49m\u001b[43m \u001b[49m\n\u001b[0;32m      3\u001b[0m \u001b[43m          \u001b[49m\u001b[43mdiscount\u001b[49m\u001b[38;5;241;43m=\u001b[39;49m\u001b[38;5;241;43m0.95\u001b[39;49m\u001b[43m,\u001b[49m\u001b[43m \u001b[49m\n\u001b[0;32m      4\u001b[0m \u001b[43m          \u001b[49m\u001b[43mepsilon\u001b[49m\u001b[38;5;241;43m=\u001b[39;49m\u001b[38;5;241;43m1.0\u001b[39;49m\u001b[43m,\u001b[49m\u001b[43m \u001b[49m\n\u001b[0;32m      5\u001b[0m \u001b[43m          \u001b[49m\u001b[43mmax_steps\u001b[49m\u001b[38;5;241;43m=\u001b[39;49m\u001b[38;5;241;43m10000\u001b[39;49m\u001b[43m,\u001b[49m\u001b[43m \u001b[49m\n\u001b[0;32m      6\u001b[0m \u001b[43m          \u001b[49m\u001b[43mepisodes\u001b[49m\u001b[38;5;241;43m=\u001b[39;49m\u001b[38;5;241;43m1000\u001b[39;49m\u001b[43m,\u001b[49m\n\u001b[0;32m      7\u001b[0m \u001b[43m          \u001b[49m\u001b[43mbatch_size_p\u001b[49m\u001b[38;5;241;43m=\u001b[39;49m\u001b[38;5;241;43m32\u001b[39;49m\u001b[43m)\u001b[49m\n",
      "Cell \u001b[1;32mIn[7], line 81\u001b[0m, in \u001b[0;36mDeepQLearning\u001b[1;34m(env, learning_rate, discount, epsilon, max_steps, episodes, batch_size_p)\u001b[0m\n\u001b[0;32m     77\u001b[0m max_q_values_next \u001b[38;5;241m=\u001b[39m np\u001b[38;5;241m.\u001b[39mamax(q_values_next, axis\u001b[38;5;241m=\u001b[39m\u001b[38;5;241m1\u001b[39m)\n\u001b[0;32m     79\u001b[0m targets[\u001b[38;5;28mrange\u001b[39m(batch_size), actions] \u001b[38;5;241m=\u001b[39m rewards \u001b[38;5;241m+\u001b[39m discount \u001b[38;5;241m*\u001b[39m max_q_values_next \u001b[38;5;241m*\u001b[39m  (\u001b[38;5;241m1\u001b[39m \u001b[38;5;241m-\u001b[39m dones) \n\u001b[1;32m---> 81\u001b[0m \u001b[43mmodel\u001b[49m\u001b[38;5;241;43m.\u001b[39;49m\u001b[43mfit\u001b[49m\u001b[43m(\u001b[49m\u001b[43mstates\u001b[49m\u001b[43m,\u001b[49m\u001b[43m \u001b[49m\u001b[43mtargets\u001b[49m\u001b[43m,\u001b[49m\u001b[43m \u001b[49m\u001b[43mepochs\u001b[49m\u001b[38;5;241;43m=\u001b[39;49m\u001b[38;5;241;43m1\u001b[39;49m\u001b[43m,\u001b[49m\u001b[43m \u001b[49m\u001b[43mverbose\u001b[49m\u001b[38;5;241;43m=\u001b[39;49m\u001b[38;5;241;43m0\u001b[39;49m\u001b[43m)\u001b[49m\n\u001b[0;32m     83\u001b[0m model\u001b[38;5;241m.\u001b[39msave_weights(\u001b[38;5;124m'\u001b[39m\u001b[38;5;124mmodelv12548DDQN.weights.h5\u001b[39m\u001b[38;5;124m'\u001b[39m, overwrite\u001b[38;5;241m=\u001b[39m\u001b[38;5;28;01mTrue\u001b[39;00m)\n\u001b[0;32m     85\u001b[0m \u001b[38;5;28;01mif\u001b[39;00m i\u001b[38;5;241m>\u001b[39m\u001b[38;5;241m10\u001b[39m \u001b[38;5;129;01mand\u001b[39;00m epsilon \u001b[38;5;241m>\u001b[39m \u001b[38;5;241m0.01\u001b[39m:\n",
      "File \u001b[1;32m~\\AppData\\Roaming\\Python\\Python311\\site-packages\\keras\\src\\utils\\traceback_utils.py:65\u001b[0m, in \u001b[0;36mfilter_traceback.<locals>.error_handler\u001b[1;34m(*args, **kwargs)\u001b[0m\n\u001b[0;32m     63\u001b[0m filtered_tb \u001b[38;5;241m=\u001b[39m \u001b[38;5;28;01mNone\u001b[39;00m\n\u001b[0;32m     64\u001b[0m \u001b[38;5;28;01mtry\u001b[39;00m:\n\u001b[1;32m---> 65\u001b[0m     \u001b[38;5;28;01mreturn\u001b[39;00m \u001b[43mfn\u001b[49m\u001b[43m(\u001b[49m\u001b[38;5;241;43m*\u001b[39;49m\u001b[43margs\u001b[49m\u001b[43m,\u001b[49m\u001b[43m \u001b[49m\u001b[38;5;241;43m*\u001b[39;49m\u001b[38;5;241;43m*\u001b[39;49m\u001b[43mkwargs\u001b[49m\u001b[43m)\u001b[49m\n\u001b[0;32m     66\u001b[0m \u001b[38;5;28;01mexcept\u001b[39;00m \u001b[38;5;167;01mException\u001b[39;00m \u001b[38;5;28;01mas\u001b[39;00m e:\n\u001b[0;32m     67\u001b[0m     filtered_tb \u001b[38;5;241m=\u001b[39m _process_traceback_frames(e\u001b[38;5;241m.\u001b[39m__traceback__)\n",
      "File \u001b[1;32m~\\AppData\\Roaming\\Python\\Python311\\site-packages\\keras\\src\\engine\\training.py:1770\u001b[0m, in \u001b[0;36mModel.fit\u001b[1;34m(self, x, y, batch_size, epochs, verbose, callbacks, validation_split, validation_data, shuffle, class_weight, sample_weight, initial_epoch, steps_per_epoch, validation_steps, validation_batch_size, validation_freq, max_queue_size, workers, use_multiprocessing)\u001b[0m\n\u001b[0;32m   1768\u001b[0m logs \u001b[38;5;241m=\u001b[39m \u001b[38;5;28;01mNone\u001b[39;00m\n\u001b[0;32m   1769\u001b[0m \u001b[38;5;28;01mfor\u001b[39;00m epoch, iterator \u001b[38;5;129;01min\u001b[39;00m data_handler\u001b[38;5;241m.\u001b[39menumerate_epochs():\n\u001b[1;32m-> 1770\u001b[0m     \u001b[38;5;28;43mself\u001b[39;49m\u001b[38;5;241;43m.\u001b[39;49m\u001b[43mreset_metrics\u001b[49m\u001b[43m(\u001b[49m\u001b[43m)\u001b[49m\n\u001b[0;32m   1771\u001b[0m     callbacks\u001b[38;5;241m.\u001b[39mon_epoch_begin(epoch)\n\u001b[0;32m   1772\u001b[0m     \u001b[38;5;28;01mwith\u001b[39;00m data_handler\u001b[38;5;241m.\u001b[39mcatch_stop_iteration():\n",
      "File \u001b[1;32m~\\AppData\\Roaming\\Python\\Python311\\site-packages\\keras\\src\\engine\\training.py:2698\u001b[0m, in \u001b[0;36mModel.reset_metrics\u001b[1;34m(self)\u001b[0m\n\u001b[0;32m   2679\u001b[0m \u001b[38;5;250m\u001b[39m\u001b[38;5;124;03m\"\"\"Resets the state of all the metrics in the model.\u001b[39;00m\n\u001b[0;32m   2680\u001b[0m \n\u001b[0;32m   2681\u001b[0m \u001b[38;5;124;03mExamples:\u001b[39;00m\n\u001b[1;32m   (...)\u001b[0m\n\u001b[0;32m   2695\u001b[0m \n\u001b[0;32m   2696\u001b[0m \u001b[38;5;124;03m\"\"\"\u001b[39;00m\n\u001b[0;32m   2697\u001b[0m \u001b[38;5;28;01mfor\u001b[39;00m m \u001b[38;5;129;01min\u001b[39;00m \u001b[38;5;28mself\u001b[39m\u001b[38;5;241m.\u001b[39mmetrics:\n\u001b[1;32m-> 2698\u001b[0m     \u001b[43mm\u001b[49m\u001b[38;5;241;43m.\u001b[39;49m\u001b[43mreset_state\u001b[49m\u001b[43m(\u001b[49m\u001b[43m)\u001b[49m\n",
      "File \u001b[1;32m~\\AppData\\Roaming\\Python\\Python311\\site-packages\\keras\\src\\metrics\\base_metric.py:265\u001b[0m, in \u001b[0;36mMetric.reset_state\u001b[1;34m(self)\u001b[0m\n\u001b[0;32m    263\u001b[0m     \u001b[38;5;28;01mreturn\u001b[39;00m \u001b[38;5;28mself\u001b[39m\u001b[38;5;241m.\u001b[39mreset_states()\n\u001b[0;32m    264\u001b[0m \u001b[38;5;28;01melse\u001b[39;00m:\n\u001b[1;32m--> 265\u001b[0m     \u001b[43mbackend\u001b[49m\u001b[38;5;241;43m.\u001b[39;49m\u001b[43mbatch_set_value\u001b[49m\u001b[43m(\u001b[49m\u001b[43m[\u001b[49m\u001b[43m(\u001b[49m\u001b[43mv\u001b[49m\u001b[43m,\u001b[49m\u001b[43m \u001b[49m\u001b[38;5;241;43m0\u001b[39;49m\u001b[43m)\u001b[49m\u001b[43m \u001b[49m\u001b[38;5;28;43;01mfor\u001b[39;49;00m\u001b[43m \u001b[49m\u001b[43mv\u001b[49m\u001b[43m \u001b[49m\u001b[38;5;129;43;01min\u001b[39;49;00m\u001b[43m \u001b[49m\u001b[38;5;28;43mself\u001b[39;49m\u001b[38;5;241;43m.\u001b[39;49m\u001b[43mvariables\u001b[49m\u001b[43m]\u001b[49m\u001b[43m)\u001b[49m\n",
      "File \u001b[1;32m~\\AppData\\Roaming\\Python\\Python311\\site-packages\\tensorflow\\python\\util\\traceback_utils.py:150\u001b[0m, in \u001b[0;36mfilter_traceback.<locals>.error_handler\u001b[1;34m(*args, **kwargs)\u001b[0m\n\u001b[0;32m    148\u001b[0m filtered_tb \u001b[38;5;241m=\u001b[39m \u001b[38;5;28;01mNone\u001b[39;00m\n\u001b[0;32m    149\u001b[0m \u001b[38;5;28;01mtry\u001b[39;00m:\n\u001b[1;32m--> 150\u001b[0m   \u001b[38;5;28;01mreturn\u001b[39;00m \u001b[43mfn\u001b[49m\u001b[43m(\u001b[49m\u001b[38;5;241;43m*\u001b[39;49m\u001b[43margs\u001b[49m\u001b[43m,\u001b[49m\u001b[43m \u001b[49m\u001b[38;5;241;43m*\u001b[39;49m\u001b[38;5;241;43m*\u001b[39;49m\u001b[43mkwargs\u001b[49m\u001b[43m)\u001b[49m\n\u001b[0;32m    151\u001b[0m \u001b[38;5;28;01mexcept\u001b[39;00m \u001b[38;5;167;01mException\u001b[39;00m \u001b[38;5;28;01mas\u001b[39;00m e:\n\u001b[0;32m    152\u001b[0m   filtered_tb \u001b[38;5;241m=\u001b[39m _process_traceback_frames(e\u001b[38;5;241m.\u001b[39m__traceback__)\n",
      "File \u001b[1;32m~\\AppData\\Roaming\\Python\\Python311\\site-packages\\tensorflow\\python\\util\\dispatch.py:1176\u001b[0m, in \u001b[0;36madd_dispatch_support.<locals>.decorator.<locals>.op_dispatch_handler\u001b[1;34m(*args, **kwargs)\u001b[0m\n\u001b[0;32m   1174\u001b[0m \u001b[38;5;66;03m# Fallback dispatch system (dispatch v1):\u001b[39;00m\n\u001b[0;32m   1175\u001b[0m \u001b[38;5;28;01mtry\u001b[39;00m:\n\u001b[1;32m-> 1176\u001b[0m   \u001b[38;5;28;01mreturn\u001b[39;00m \u001b[43mdispatch_target\u001b[49m\u001b[43m(\u001b[49m\u001b[38;5;241;43m*\u001b[39;49m\u001b[43margs\u001b[49m\u001b[43m,\u001b[49m\u001b[43m \u001b[49m\u001b[38;5;241;43m*\u001b[39;49m\u001b[38;5;241;43m*\u001b[39;49m\u001b[43mkwargs\u001b[49m\u001b[43m)\u001b[49m\n\u001b[0;32m   1177\u001b[0m \u001b[38;5;28;01mexcept\u001b[39;00m (\u001b[38;5;167;01mTypeError\u001b[39;00m, \u001b[38;5;167;01mValueError\u001b[39;00m):\n\u001b[0;32m   1178\u001b[0m   \u001b[38;5;66;03m# Note: convert_to_eager_tensor currently raises a ValueError, not a\u001b[39;00m\n\u001b[0;32m   1179\u001b[0m   \u001b[38;5;66;03m# TypeError, when given unexpected types.  So we need to catch both.\u001b[39;00m\n\u001b[0;32m   1180\u001b[0m   result \u001b[38;5;241m=\u001b[39m dispatch(op_dispatch_handler, args, kwargs)\n",
      "File \u001b[1;32m~\\AppData\\Roaming\\Python\\Python311\\site-packages\\keras\\src\\backend.py:4313\u001b[0m, in \u001b[0;36mbatch_set_value\u001b[1;34m(tuples)\u001b[0m\n\u001b[0;32m   4311\u001b[0m     \u001b[38;5;28;01mfor\u001b[39;00m x, value \u001b[38;5;129;01min\u001b[39;00m tuples:\n\u001b[0;32m   4312\u001b[0m         value \u001b[38;5;241m=\u001b[39m np\u001b[38;5;241m.\u001b[39masarray(value, dtype\u001b[38;5;241m=\u001b[39mdtype_numpy(x))\n\u001b[1;32m-> 4313\u001b[0m         \u001b[43m_assign_value_to_variable\u001b[49m\u001b[43m(\u001b[49m\u001b[43mx\u001b[49m\u001b[43m,\u001b[49m\u001b[43m \u001b[49m\u001b[43mvalue\u001b[49m\u001b[43m)\u001b[49m\n\u001b[0;32m   4314\u001b[0m \u001b[38;5;28;01melse\u001b[39;00m:\n\u001b[0;32m   4315\u001b[0m     \u001b[38;5;28;01mwith\u001b[39;00m get_graph()\u001b[38;5;241m.\u001b[39mas_default():\n",
      "File \u001b[1;32m~\\AppData\\Roaming\\Python\\Python311\\site-packages\\keras\\src\\backend.py:4361\u001b[0m, in \u001b[0;36m_assign_value_to_variable\u001b[1;34m(variable, value)\u001b[0m\n\u001b[0;32m   4358\u001b[0m     variable\u001b[38;5;241m.\u001b[39massign(d_value)\n\u001b[0;32m   4359\u001b[0m \u001b[38;5;28;01melse\u001b[39;00m:\n\u001b[0;32m   4360\u001b[0m     \u001b[38;5;66;03m# For the normal tf.Variable assign\u001b[39;00m\n\u001b[1;32m-> 4361\u001b[0m     \u001b[43mvariable\u001b[49m\u001b[38;5;241;43m.\u001b[39;49m\u001b[43massign\u001b[49m\u001b[43m(\u001b[49m\u001b[43mvalue\u001b[49m\u001b[43m)\u001b[49m\n",
      "File \u001b[1;32m~\\AppData\\Roaming\\Python\\Python311\\site-packages\\tensorflow\\python\\ops\\resource_variable_ops.py:1032\u001b[0m, in \u001b[0;36mBaseResourceVariable.assign\u001b[1;34m(self, value, use_locking, name, read_value)\u001b[0m\n\u001b[0;32m   1030\u001b[0m   validate_shape \u001b[38;5;241m=\u001b[39m \u001b[38;5;28mself\u001b[39m\u001b[38;5;241m.\u001b[39m_validate_shape \u001b[38;5;129;01mand\u001b[39;00m \u001b[38;5;28mself\u001b[39m\u001b[38;5;241m.\u001b[39m_shape\u001b[38;5;241m.\u001b[39mis_fully_defined()\n\u001b[0;32m   1031\u001b[0m   kwargs[\u001b[38;5;124m\"\u001b[39m\u001b[38;5;124mvalidate_shape\u001b[39m\u001b[38;5;124m\"\u001b[39m] \u001b[38;5;241m=\u001b[39m validate_shape\n\u001b[1;32m-> 1032\u001b[0m assign_op \u001b[38;5;241m=\u001b[39m \u001b[43mgen_resource_variable_ops\u001b[49m\u001b[38;5;241;43m.\u001b[39;49m\u001b[43massign_variable_op\u001b[49m\u001b[43m(\u001b[49m\n\u001b[0;32m   1033\u001b[0m \u001b[43m    \u001b[49m\u001b[38;5;28;43mself\u001b[39;49m\u001b[38;5;241;43m.\u001b[39;49m\u001b[43mhandle\u001b[49m\u001b[43m,\u001b[49m\u001b[43m \u001b[49m\u001b[43mvalue_tensor\u001b[49m\u001b[43m,\u001b[49m\u001b[43m \u001b[49m\u001b[43mname\u001b[49m\u001b[38;5;241;43m=\u001b[39;49m\u001b[43mname\u001b[49m\u001b[43m,\u001b[49m\u001b[43m \u001b[49m\u001b[38;5;241;43m*\u001b[39;49m\u001b[38;5;241;43m*\u001b[39;49m\u001b[43mkwargs\u001b[49m\u001b[43m)\u001b[49m\n\u001b[0;32m   1034\u001b[0m \u001b[38;5;28;01mif\u001b[39;00m read_value:\n\u001b[0;32m   1035\u001b[0m   \u001b[38;5;28;01mreturn\u001b[39;00m \u001b[38;5;28mself\u001b[39m\u001b[38;5;241m.\u001b[39m_lazy_read(assign_op)\n",
      "File \u001b[1;32m~\\AppData\\Roaming\\Python\\Python311\\site-packages\\tensorflow\\python\\ops\\gen_resource_variable_ops.py:145\u001b[0m, in \u001b[0;36massign_variable_op\u001b[1;34m(resource, value, validate_shape, name)\u001b[0m\n\u001b[0;32m    143\u001b[0m \u001b[38;5;28;01mif\u001b[39;00m tld\u001b[38;5;241m.\u001b[39mis_eager:\n\u001b[0;32m    144\u001b[0m   \u001b[38;5;28;01mtry\u001b[39;00m:\n\u001b[1;32m--> 145\u001b[0m     _result \u001b[38;5;241m=\u001b[39m \u001b[43mpywrap_tfe\u001b[49m\u001b[38;5;241;43m.\u001b[39;49m\u001b[43mTFE_Py_FastPathExecute\u001b[49m\u001b[43m(\u001b[49m\n\u001b[0;32m    146\u001b[0m \u001b[43m      \u001b[49m\u001b[43m_ctx\u001b[49m\u001b[43m,\u001b[49m\u001b[43m \u001b[49m\u001b[38;5;124;43m\"\u001b[39;49m\u001b[38;5;124;43mAssignVariableOp\u001b[39;49m\u001b[38;5;124;43m\"\u001b[39;49m\u001b[43m,\u001b[49m\u001b[43m \u001b[49m\u001b[43mname\u001b[49m\u001b[43m,\u001b[49m\u001b[43m \u001b[49m\u001b[43mresource\u001b[49m\u001b[43m,\u001b[49m\u001b[43m \u001b[49m\u001b[43mvalue\u001b[49m\u001b[43m,\u001b[49m\u001b[43m \u001b[49m\u001b[38;5;124;43m\"\u001b[39;49m\u001b[38;5;124;43mvalidate_shape\u001b[39;49m\u001b[38;5;124;43m\"\u001b[39;49m\u001b[43m,\u001b[49m\n\u001b[0;32m    147\u001b[0m \u001b[43m      \u001b[49m\u001b[43mvalidate_shape\u001b[49m\u001b[43m)\u001b[49m\n\u001b[0;32m    148\u001b[0m     \u001b[38;5;28;01mreturn\u001b[39;00m _result\n\u001b[0;32m    149\u001b[0m   \u001b[38;5;28;01mexcept\u001b[39;00m _core\u001b[38;5;241m.\u001b[39m_NotOkStatusException \u001b[38;5;28;01mas\u001b[39;00m e:\n",
      "\u001b[1;31mKeyboardInterrupt\u001b[0m: "
     ]
    }
   ],
   "source": [
    "DeepQLearning(env, \n",
    "          learning_rate=0.001, \n",
    "          discount=0.95, \n",
    "          epsilon=1.0, \n",
    "          max_steps=10000, \n",
    "          episodes=1000,\n",
    "          batch_size_p=32)"
   ]
  },
  {
   "cell_type": "code",
   "execution_count": 9,
   "metadata": {},
   "outputs": [
    {
     "data": {
      "text/plain": [
       "[<matplotlib.lines.Line2D at 0x16711f44fd0>]"
      ]
     },
     "execution_count": 9,
     "metadata": {},
     "output_type": "execute_result"
    },
    {
     "data": {
      "image/png": "[encoded data removed]",
      "text/plain": [
       "<Figure size 640x480 with 1 Axes>"
      ]
     },
     "metadata": {},
     "output_type": "display_data"
    }
   ],
   "source": [
    "plt.plot(rewards_list)"
   ]
  },
  {
   "cell_type": "code",
   "execution_count": 10,
   "metadata": {},
   "outputs": [],
   "source": [
    "images = []\n",
    "env = gym.make('CartPole-v1', render_mode = 'rgb_array')\n",
    "state,info = env.reset()\n",
    "\n",
    "\n",
    "input_shape = env.observation_space.shape[0]\n",
    "output_shape = env.action_space.n\n",
    "\n",
    "state = state.reshape(1, input_shape)\n",
    "\n",
    "\n",
    "model = create_model(\n",
    "        input_shape=input_shape, \n",
    "        output_shape=output_shape, \n",
    "        learning_rate=0.001\n",
    ")\n",
    "model.load_weights('model.weightsDDQN.h5')\n",
    "model.compile(loss='mse', optimizer=optimizers.Adam(learning_rate = 0.001))\n",
    "\n",
    "score = 0\n",
    "done = False\n",
    "while not done:\n",
    "\n",
    "        action = np.argmax(model.predict(state, verbose=0))\n",
    "        new_state, reward, done, trunc, info = env.step(action)\n",
    "        state = new_state.reshape(1, input_shape) \n",
    "\n",
    "        frame = env.render()  # Save the frame\n",
    "        images.append(frame)\n",
    "\n",
    "\n",
    "        if done == True:\n",
    "                break\n",
    "        score +=1\n",
    "\n",
    "env.close()\n",
    "imageio.mimsave('img/CartPoleDDQN1.gif', images, fps=59)"
   ]
  }
 ],
 "metadata": {
  "kernelspec": {
   "display_name": "Python 3",
   "language": "python",
   "name": "python3"
  },
  "language_info": {
   "codemirror_mode": {
    "name": "ipython",
    "version": 3
   },
   "file_extension": ".py",
   "mimetype": "text/x-python",
   "name": "python",
   "nbconvert_exporter": "python",
   "pygments_lexer": "ipython3",
   "version": "3.11.0"
  }
 },
 "nbformat": 4,
 "nbformat_minor": 2
}
