{
 "cells": [
  {
   "cell_type": "code",
   "execution_count": 18,
   "metadata": {},
   "outputs": [],
   "source": [
    "import numpy as np\n",
    "import gym\n",
    "import random\n",
    "\n",
    "env = gym.make('Taxi-v3', render_mode=\"human\")\n",
    "\n"
   ]
  },
  {
   "cell_type": "code",
   "execution_count": 19,
   "metadata": {},
   "outputs": [],
   "source": [
    "state = env.reset()\n",
    "\n"
   ]
  },
  {
   "cell_type": "code",
   "execution_count": 14,
   "metadata": {},
   "outputs": [],
   "source": []
  },
  {
   "cell_type": "code",
   "execution_count": 20,
   "metadata": {},
   "outputs": [
    {
     "ename": "",
     "evalue": "",
     "output_type": "error",
     "traceback": [
      "\u001b[1;31mThe Kernel crashed while executing code in the the current cell or a previous cell. Please review the code in the cell(s) to identify a possible cause of the failure. Click <a href='https://aka.ms/vscodeJupyterKernelCrash'>here</a> for more info. View Jupyter <a href='command:jupyter.viewOutput'>log</a> for further details."
     ]
    }
   ],
   "source": [
    "state = env.reset()"
   ]
  },
  {
   "cell_type": "code",
   "execution_count": null,
   "metadata": {},
   "outputs": [],
   "source": [
    "state_size = env.observation_space.n\n",
    "action_size = env.action_space.n"
   ]
  },
  {
   "cell_type": "code",
   "execution_count": null,
   "metadata": {},
   "outputs": [],
   "source": [
    "qtable = np.zeros((state_size, action_size))"
   ]
  },
  {
   "cell_type": "code",
   "execution_count": null,
   "metadata": {},
   "outputs": [],
   "source": [
    "learning_rate = 0.9\n",
    "discount_rate = 0.8\n",
    "\n",
    "def computeNewTable(qtable, state, new_state, action, reward):\n",
    "\n",
    "    qtable[state, action] += learning_rate * (reward + discount_rate * np.max(qtable[new_state,:]) - qtable[state,action])\n",
    "\n",
    "    return qtable\n"
   ]
  },
  {
   "cell_type": "code",
   "execution_count": null,
   "metadata": {},
   "outputs": [],
   "source": [
    "epsilon = 1.0     # probability that our agent will explore\n",
    "decay_rate = 0.01\n",
    "\n",
    "def takeAction(episode):\n",
    "    if random.uniform(0,1) < epsilon:\n",
    "    # explore\n",
    "        action = env.action_space.sample()\n",
    "    else:\n",
    "    # exploit\n",
    "        action = np.argmax(qtable[state,:])\n",
    "\n",
    "# epsilon decreases exponentially --> our agent will explore less and less\n",
    "    epsilon = np.exp(-decay_rate*episode)"
   ]
  },
  {
   "cell_type": "code",
   "execution_count": null,
   "metadata": {},
   "outputs": [],
   "source": [
    "num_episodes= 1000\n",
    "max_steps = 99\n",
    "\n",
    "for episode in range(num_episodes):\n",
    "\n",
    "        # reset the environment\n",
    "        state = env.reset()\n",
    "        done = False\n",
    "\n",
    "        for s in range(max_steps):\n",
    "\n",
    "            # exploration-exploitation tradeoff\n",
    "            if random.uniform(0,1) < epsilon:\n",
    "                # explore\n",
    "                action = env.action_space.sample()\n",
    "            else:\n",
    "                # exploit\n",
    "                action = np.argmax(qtable[state,:])\n",
    "\n",
    "            # take action and observe reward\n",
    "            new_state, reward, done, info = env.step(action)\n",
    "\n",
    "            # Q-learning algorithm\n",
    "            qtable[state,action] = qtable[state,action] + learning_rate * (reward + discount_rate * np.max(qtable[new_state,:])-qtable[state,action])\n",
    "\n",
    "            # Update to our new state\n",
    "            state = new_state\n",
    "\n",
    "            # if done, finish episode\n",
    "            if done == True:\n",
    "                break\n",
    "\n",
    "        # Decrease epsilon\n",
    "        epsilon = np.exp(-decay_rate*episode)"
   ]
  }
 ],
 "metadata": {
  "kernelspec": {
   "display_name": "Python 3",
   "language": "python",
   "name": "python3"
  },
  "language_info": {
   "codemirror_mode": {
    "name": "ipython",
    "version": 3
   },
   "file_extension": ".py",
   "mimetype": "text/x-python",
   "name": "python",
   "nbconvert_exporter": "python",
   "pygments_lexer": "ipython3",
   "version": "3.11.0"
  },
  "orig_nbformat": 4,
  "vscode": {
   "interpreter": {
    "hash": "c261aea317cc0286b3b3261fbba9abdec21eaa57589985bb7a274bf54d6cc0a7"
   }
  }
 },
 "nbformat": 4,
 "nbformat_minor": 2
}
